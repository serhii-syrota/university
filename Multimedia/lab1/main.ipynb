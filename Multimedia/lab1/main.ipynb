{
 "cells": [
  {
   "cell_type": "code",
   "execution_count": 1,
   "id": "649973ea",
   "metadata": {},
   "outputs": [],
   "source": [
    "# from sound import Sound\n",
    "\n",
    "# dataset_path = \"./dataset/audio\"\n",
    "# # Load the audio file\n",
    "# AUDIO_FILE = \"{}/fold1/7061-6-0-0.wav\".format(dataset_path)\n",
    "# example = Sound(AUDIO_FILE)\n",
    "# example.export_melgram(\"./test.jpg\")"
   ]
  },
  {
   "cell_type": "code",
   "execution_count": 2,
   "id": "4ad817bb",
   "metadata": {},
   "outputs": [],
   "source": [
    "from dataset import UrbanSound8K\n",
    "# dataset_path:str, meta_path:str, audio_path:str\n",
    "ds = UrbanSound8K(\n",
    "    dataset_path=\"./dataset\",\n",
    "    meta_path=\"./dataset/UrbanSound8K.csv\",\n",
    "    audio_path=\"./dataset/audio\")\n",
    "# ds.generate_images()"
   ]
  },
  {
   "cell_type": "code",
   "execution_count": null,
   "id": "4fb88e12",
   "metadata": {},
   "outputs": [],
   "source": [
    "from classifier import UrbanSoundClassifier\n",
    "\n",
    "classifier = UrbanSoundClassifier(ds)\n",
    "classifier.evaluate()"
   ]
  }
 ],
 "metadata": {
  "kernelspec": {
   "display_name": "lab1_multimedia",
   "language": "python",
   "name": "python3"
  },
  "language_info": {
   "codemirror_mode": {
    "name": "ipython",
    "version": 3
   },
   "file_extension": ".py",
   "mimetype": "text/x-python",
   "name": "python",
   "nbconvert_exporter": "python",
   "pygments_lexer": "ipython3",
   "version": "3.10.15"
  }
 },
 "nbformat": 4,
 "nbformat_minor": 5
}
